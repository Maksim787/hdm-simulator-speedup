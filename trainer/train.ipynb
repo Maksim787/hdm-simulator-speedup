{
 "cells": [
  {
   "cell_type": "code",
   "execution_count": 1,
   "metadata": {},
   "outputs": [],
   "source": [
    "%load_ext autoreload\n",
    "%autoreload 2"
   ]
  },
  {
   "cell_type": "code",
   "execution_count": 2,
   "metadata": {},
   "outputs": [],
   "source": [
    "# from trainer.dataset import test\n",
    "\n",
    "# test()"
   ]
  },
  {
   "cell_type": "code",
   "execution_count": 3,
   "metadata": {},
   "outputs": [
    {
     "name": "stderr",
     "output_type": "stream",
     "text": [
      "Failed to detect the name of this notebook, you can set it manually with the WANDB_NOTEBOOK_NAME environment variable to enable code saving.\n",
      "wandb: Currently logged in as: kazadaevms. Use `wandb login --relogin` to force relogin\n"
     ]
    },
    {
     "data": {
      "text/html": [
       "Tracking run with wandb version 0.16.6"
      ],
      "text/plain": [
       "<IPython.core.display.HTML object>"
      ]
     },
     "metadata": {},
     "output_type": "display_data"
    },
    {
     "data": {
      "text/html": [
       "Run data is saved locally in <code>d:\\Learning\\4_course\\Sirius Energy\\hdm-simulator-speedup\\wandb\\run-20240405_151312-10h0l0b2</code>"
      ],
      "text/plain": [
       "<IPython.core.display.HTML object>"
      ]
     },
     "metadata": {},
     "output_type": "display_data"
    },
    {
     "data": {
      "text/html": [
       "Syncing run <strong><a href='https://wandb.ai/kazadaevms/hdm-simulator-speedup/runs/10h0l0b2' target=\"_blank\">debug</a></strong> to <a href='https://wandb.ai/kazadaevms/hdm-simulator-speedup' target=\"_blank\">Weights & Biases</a> (<a href='https://wandb.me/run' target=\"_blank\">docs</a>)<br/>"
      ],
      "text/plain": [
       "<IPython.core.display.HTML object>"
      ]
     },
     "metadata": {},
     "output_type": "display_data"
    },
    {
     "data": {
      "text/html": [
       " View project at <a href='https://wandb.ai/kazadaevms/hdm-simulator-speedup' target=\"_blank\">https://wandb.ai/kazadaevms/hdm-simulator-speedup</a>"
      ],
      "text/plain": [
       "<IPython.core.display.HTML object>"
      ]
     },
     "metadata": {},
     "output_type": "display_data"
    },
    {
     "data": {
      "text/html": [
       " View run at <a href='https://wandb.ai/kazadaevms/hdm-simulator-speedup/runs/10h0l0b2' target=\"_blank\">https://wandb.ai/kazadaevms/hdm-simulator-speedup/runs/10h0l0b2</a>"
      ],
      "text/plain": [
       "<IPython.core.display.HTML object>"
      ]
     },
     "metadata": {},
     "output_type": "display_data"
    },
    {
     "name": "stdout",
     "output_type": "stream",
     "text": [
      "{'dataloaders': {'batch_size': 16,\n",
      "                 'seed': 1,\n",
      "                 'table': 0,\n",
      "                 'test_size': 0.2,\n",
      "                 'verbose': True},\n",
      " 'model': {'activation': 'relu',\n",
      "           'batchnorm': False,\n",
      "           'layer_sizes': [16, 32, 16]},\n",
      " 'optimizer': {'lr': 0.001, 'type': 'Adam'},\n",
      " 'scheduler': {'T_max': 100, 'eta_min': 1e-06, 'type': 'CosineAnnealingLR'},\n",
      " 'trainer': {'device': 'cuda:0', 'n_epochs': 100, 'seed': 1, 'verbose': True},\n",
      " 'wandb': {'enabled': True,\n",
      "           'project_name': 'hdm-simulator-speedup',\n",
      "           'run_name': 'debug'}}\n",
      "model = MLP(\n",
      "  (net): Sequential(\n",
      "    (0): Linear(in_features=6, out_features=16, bias=True)\n",
      "    (1): ReLU()\n",
      "    (2): Linear(in_features=16, out_features=32, bias=True)\n",
      "    (3): ReLU()\n",
      "    (4): Linear(in_features=32, out_features=16, bias=True)\n",
      "    (5): ReLU()\n",
      "    (6): Linear(in_features=16, out_features=1, bias=True)\n",
      "  )\n",
      ")\n"
     ]
    },
    {
     "data": {
      "application/vnd.jupyter.widget-view+json": {
       "model_id": "9b3ef58b8f8241c0b7a61371e36673ab",
       "version_major": 2,
       "version_minor": 0
      },
      "text/plain": [
       "  0%|          | 0/100 [00:00<?, ?it/s]"
      ]
     },
     "metadata": {},
     "output_type": "display_data"
    },
    {
     "data": {
      "application/vnd.jupyter.widget-view+json": {
       "model_id": "445fa43465454aedb645d0802f738547",
       "version_major": 2,
       "version_minor": 0
      },
      "text/plain": [
       "VBox(children=(Label(value='0.001 MB of 0.001 MB uploaded\\r'), FloatProgress(value=1.0, max=1.0)))"
      ]
     },
     "metadata": {},
     "output_type": "display_data"
    },
    {
     "data": {
      "text/html": [
       "<style>\n",
       "    table.wandb td:nth-child(1) { padding: 0 10px; text-align: left ; width: auto;} td:nth-child(2) {text-align: left ; width: 100%}\n",
       "    .wandb-row { display: flex; flex-direction: row; flex-wrap: wrap; justify-content: flex-start; width: 100% }\n",
       "    .wandb-col { display: flex; flex-direction: column; flex-basis: 100%; flex: 1; padding: 10px; }\n",
       "    </style>\n",
       "<div class=\"wandb-row\"><div class=\"wandb-col\"><h3>Run history:</h3><br/><table class=\"wandb\"><tr><td>lr</td><td>████████▇▇▇▇▇▆▆▆▆▅▅▅▄▄▄▄▃▃▃▃▂▂▂▂▂▁▁▁▁▁▁▁</td></tr><tr><td>test_loss</td><td>█▃▂▂▂▂▂▂▂▂▂▂▂▁▁▁▁▁▁▁▁▁▁▁▁▁▁▁▁▁▁▁▁▁▁▁▁▁▁▁</td></tr><tr><td>train_loss</td><td>█▁▁▁▁▁▁▁▁▁▁▁▁▁▁▁▁▁▁▁▁▁▁▁▁▁▁▁▁▁▁▁▁▁▁▁▁▁▁▁</td></tr></table><br/></div><div class=\"wandb-col\"><h3>Run summary:</h3><br/><table class=\"wandb\"><tr><td>lr</td><td>0.0</td></tr><tr><td>test_loss</td><td>3.43882</td></tr><tr><td>train_loss</td><td>2.75039</td></tr></table><br/></div></div>"
      ],
      "text/plain": [
       "<IPython.core.display.HTML object>"
      ]
     },
     "metadata": {},
     "output_type": "display_data"
    },
    {
     "data": {
      "text/html": [
       " View run <strong style=\"color:#cdcd00\">debug</strong> at: <a href='https://wandb.ai/kazadaevms/hdm-simulator-speedup/runs/10h0l0b2' target=\"_blank\">https://wandb.ai/kazadaevms/hdm-simulator-speedup/runs/10h0l0b2</a><br/> View project at: <a href='https://wandb.ai/kazadaevms/hdm-simulator-speedup' target=\"_blank\">https://wandb.ai/kazadaevms/hdm-simulator-speedup</a><br/>Synced 5 W&B file(s), 0 media file(s), 0 artifact file(s) and 0 other file(s)"
      ],
      "text/plain": [
       "<IPython.core.display.HTML object>"
      ]
     },
     "metadata": {},
     "output_type": "display_data"
    },
    {
     "data": {
      "text/html": [
       "Find logs at: <code>.\\wandb\\run-20240405_151312-10h0l0b2\\logs</code>"
      ],
      "text/plain": [
       "<IPython.core.display.HTML object>"
      ]
     },
     "metadata": {},
     "output_type": "display_data"
    }
   ],
   "source": [
    "import torch\n",
    "from trainer.trainer import Trainer\n",
    "\n",
    "\n",
    "config = {\n",
    "    \"dataloaders\": {\n",
    "        \"table\": 0,\n",
    "        \"batch_size\": 16,\n",
    "        \"test_size\": 0.2,\n",
    "        \"verbose\": True,\n",
    "        \"seed\": 1,\n",
    "    },\n",
    "    \"trainer\": {\n",
    "        \"seed\": 1,\n",
    "        \"device\": \"cuda:0\" if torch.cuda.is_available() else \"cpu\",\n",
    "        \"verbose\": True,\n",
    "        \"n_epochs\": 100,\n",
    "    },\n",
    "    \"model\": {\n",
    "        \"type\": \"MLP\",\n",
    "        \"layer_sizes\": [16, 32, 16],\n",
    "        \"activation\": \"relu\",\n",
    "        \"batchnorm\": False,\n",
    "    },\n",
    "    \"optimizer\": {\n",
    "        \"type\": \"Adam\",\n",
    "        \"lr\": 1e-3,\n",
    "    },\n",
    "    \"scheduler\": {\n",
    "        \"type\": \"CosineAnnealingLR\",\n",
    "        \"T_max\": 100,\n",
    "        \"eta_min\": 1e-6,\n",
    "    },\n",
    "    \"wandb\": {\n",
    "        \"enabled\": True,\n",
    "        \"project_name\": \"hdm-simulator-speedup\",\n",
    "        \"run_name\": \"debug\",\n",
    "    },\n",
    "}\n",
    "t = Trainer(config)\n",
    "t.train()"
   ]
  },
  {
   "cell_type": "code",
   "execution_count": 4,
   "metadata": {},
   "outputs": [],
   "source": [
    "from trainer.utils import delete_runs_with_name\n",
    "\n",
    "\n",
    "# delete_runs_with_name(config[\"wandb\"][\"project_name\"], run_name=\"debug\")"
   ]
  },
  {
   "cell_type": "code",
   "execution_count": null,
   "metadata": {},
   "outputs": [],
   "source": []
  }
 ],
 "metadata": {
  "kernelspec": {
   "display_name": "main",
   "language": "python",
   "name": "python3"
  },
  "language_info": {
   "codemirror_mode": {
    "name": "ipython",
    "version": 3
   },
   "file_extension": ".py",
   "mimetype": "text/x-python",
   "name": "python",
   "nbconvert_exporter": "python",
   "pygments_lexer": "ipython3",
   "version": "3.12.2"
  }
 },
 "nbformat": 4,
 "nbformat_minor": 2
}
