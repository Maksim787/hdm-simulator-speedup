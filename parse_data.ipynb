{
 "cells": [
  {
   "cell_type": "markdown",
   "metadata": {},
   "source": [
    "# Read simulations"
   ]
  },
  {
   "cell_type": "code",
   "execution_count": 1,
   "metadata": {},
   "outputs": [
    {
     "name": "stdout",
     "output_type": "stream",
     "text": [
      "Found Simulation: Д3\n",
      "Found Simulation: Царичанское7Р\n"
     ]
    }
   ],
   "source": [
    "from pathlib import Path\n",
    "\n",
    "DATA_DIRECTORY = Path('data/')\n",
    "assert DATA_DIRECTORY.exists()\n",
    "\n",
    "simulations = sorted([d for d in DATA_DIRECTORY.iterdir() if d.name != \"raw\"])\n",
    "for s in simulations:\n",
    "    print(f'Found Simulation: {s.name}')"
   ]
  },
  {
   "cell_type": "markdown",
   "metadata": {},
   "source": [
    "# Read filenames"
   ]
  },
  {
   "cell_type": "code",
   "execution_count": 2,
   "metadata": {},
   "outputs": [
    {
     "name": "stdout",
     "output_type": "stream",
     "text": [
      "Main Simulation: carich_DI.dat\n",
      "Other Simulations: [1...1000]\n"
     ]
    }
   ],
   "source": [
    "def sort_key(f: Path):\n",
    "    name = f.name.removesuffix(\".dat\")\n",
    "    if not name[-1].isdigit():\n",
    "        return -1\n",
    "    return int(name.split(\"_\")[-1])\n",
    "\n",
    "\n",
    "def read_dat_filenames(simulation: Path, verbose: bool = True):\n",
    "    dat_files = sorted([f for f in simulation.iterdir() if f.name.endswith(\".dat\")], key=sort_key)\n",
    "    if verbose:\n",
    "        main_dat_file = dat_files[0]\n",
    "        print(f'Main Simulation: {main_dat_file.name}')\n",
    "        other_dat_files = [int(f.name.removesuffix('.dat').split('_')[-1]) for f in dat_files[1:]]\n",
    "        assert other_dat_files == list(range(1, len(other_dat_files) + 1))\n",
    "        print(f'Other Simulations: [{other_dat_files[0]}...{other_dat_files[-1]}]')\n",
    "    return dat_files\n",
    "\n",
    "\n",
    "dat_files = read_dat_filenames(simulations[1])\n",
    "main_dat_file = dat_files[0]\n",
    "other_dat_files = dat_files[1:]"
   ]
  },
  {
   "cell_type": "markdown",
   "metadata": {},
   "source": [
    "# Read dat files"
   ]
  },
  {
   "cell_type": "code",
   "execution_count": 3,
   "metadata": {},
   "outputs": [],
   "source": [
    "def read_dat_file(file: Path):\n",
    "    # TODO:\n",
    "    pass\n",
    "\n",
    "\n",
    "read_dat_file(dat_files[0])"
   ]
  }
 ],
 "metadata": {
  "kernelspec": {
   "display_name": "main",
   "language": "python",
   "name": "python3"
  },
  "language_info": {
   "codemirror_mode": {
    "name": "ipython",
    "version": 3
   },
   "file_extension": ".py",
   "mimetype": "text/x-python",
   "name": "python",
   "nbconvert_exporter": "python",
   "pygments_lexer": "ipython3",
   "version": "3.12.2"
  }
 },
 "nbformat": 4,
 "nbformat_minor": 2
}
