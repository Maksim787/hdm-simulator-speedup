{
 "cells": [
  {
   "cell_type": "markdown",
   "metadata": {},
   "source": [
    "# Read simulations"
   ]
  },
  {
   "cell_type": "code",
   "execution_count": 159,
   "metadata": {},
   "outputs": [
    {
     "name": "stdout",
     "output_type": "stream",
     "text": [
      "Found Simulation: HIST_SG1_2_SG5_7\n",
      "Found Simulation: model\n",
      "Found Simulation: Вынгаяхинское\n",
      "Found Simulation: Д3\n",
      "Found Simulation: Царичанское13Р\n",
      "Found Simulation: Царичанское7Р\n",
      "Found Simulation: Ягодное\n"
     ]
    }
   ],
   "source": [
    "from pathlib import Path\n",
    "\n",
    "DATA_DIRECTORY = Path('data/')\n",
    "assert DATA_DIRECTORY.exists()\n",
    "\n",
    "simulations = sorted([d for d in DATA_DIRECTORY.iterdir() if d.name != \"raw\"])\n",
    "for s in simulations:\n",
    "    print(f'Found Simulation: {s.name}')"
   ]
  },
  {
   "cell_type": "markdown",
   "metadata": {},
   "source": [
    "# Read filenames"
   ]
  },
  {
   "cell_type": "code",
   "execution_count": 160,
   "metadata": {},
   "outputs": [
    {
     "name": "stdout",
     "output_type": "stream",
     "text": [
      "Main Simulation: carich_DI.dat\n",
      "Other Simulations: [1...1000]\n"
     ]
    }
   ],
   "source": [
    "import os\n",
    "\n",
    "format = \".dat\"\n",
    "\n",
    "def iterate_files_recursively(directory):\n",
    "    for root, dirs, files in os.walk(directory):\n",
    "        for file_name in files:\n",
    "            yield Path(os.path.join(root, file_name))\n",
    "\n",
    "def find_common_prefix(filenames):\n",
    "    if not filenames:\n",
    "        return \"\"\n",
    "\n",
    "    # Extract base filenames\n",
    "    base_filenames = [Path(filename).name for filename in filenames]\n",
    "\n",
    "    # Find the common prefix among the base filenames\n",
    "    prefix = os.path.commonprefix(base_filenames)\n",
    "\n",
    "    return prefix\n",
    "\n",
    "def sort_filenames(filenames):\n",
    "    if not filenames:\n",
    "        return []\n",
    "\n",
    "    # Convert Path objects to strings\n",
    "    filenames = [str(filename) for filename in filenames]\n",
    "\n",
    "    prefix = find_common_prefix(filenames)\n",
    "    base_file = prefix + format  # Construct the base filename\n",
    "    sorted_files = []\n",
    "\n",
    "    # Check if any filename ends with base_file\n",
    "    for filename in filenames:\n",
    "        if filename.endswith(base_file):\n",
    "            sorted_files.append(filename)\n",
    "            filenames.remove(filename)\n",
    "            break\n",
    "\n",
    "    # Process numerical filenames\n",
    "    num_files = []\n",
    "    for filename in filenames:\n",
    "        if filename.endswith(format) and filename != base_file:\n",
    "            stem = Path(filename).stem\n",
    "            try:\n",
    "                num = int(stem.split('_')[-1])\n",
    "                num_files.append((num, filename))\n",
    "            except ValueError:\n",
    "                pass  # Skip filenames with non-integer suffixes\n",
    "        else:\n",
    "            sorted_files.append(filename)  # Add non-numerical filenames directly\n",
    "\n",
    "    num_files.sort()\n",
    "    sorted_files.extend([filename for _, filename in num_files])\n",
    "\n",
    "    return [Path(f) for f in sorted_files]\n",
    "\n",
    "def read_dat_filenames(simulation: Path, verbose: bool = True):\n",
    "    global format\n",
    "\n",
    "    dat_files = [f for f in iterate_files_recursively(simulation) if f.name.endswith(format)]\n",
    "    dat_files = sort_filenames(dat_files)\n",
    "\n",
    "    if len(dat_files) == 0:\n",
    "        format = \".DATA\"\n",
    "        dat_files = [f for f in iterate_files_recursively(simulation) if f.name.endswith(format)]\n",
    "        dat_files = sort_filenames(dat_files)\n",
    "\n",
    "    if verbose:\n",
    "        main_dat_file = dat_files[0]\n",
    "        print(f'Main Simulation: {main_dat_file.name}')\n",
    "        other_dat_files = [int(f.name.removesuffix(format).split('_')[-1]) for f in dat_files[1:]]\n",
    "        assert other_dat_files == list(range(1, len(other_dat_files) + 1)), \".dat (or .DATA) files do not form a list of consecutive numbers. Probably you are dealing with the Вынгаяхинское folder. If so, delete all .dat files from data/Вынгаяхинское/300_kust_07052015/WELL\"\n",
    "        print(f'Other Simulations: [{other_dat_files[0]}...{other_dat_files[-1]}]')\n",
    "\n",
    "    return dat_files\n",
    "\n",
    "dat_files = read_dat_filenames(simulations[4])\n",
    "main_dat_file = dat_files[0]\n",
    "other_dat_files = dat_files[1:]"
   ]
  },
  {
   "cell_type": "markdown",
   "metadata": {},
   "source": [
    "# Read dat files"
   ]
  },
  {
   "cell_type": "code",
   "execution_count": 161,
   "metadata": {},
   "outputs": [
    {
     "name": "stdout",
     "output_type": "stream",
     "text": [
      "The autoreload extension is already loaded. To reload it, use:\n",
      "  %reload_ext autoreload\n"
     ]
    }
   ],
   "source": [
    "%load_ext autoreload\n",
    "%autoreload 2"
   ]
  },
  {
   "cell_type": "code",
   "execution_count": 162,
   "metadata": {},
   "outputs": [
    {
     "data": {
      "text/plain": [
       "{}"
      ]
     },
     "execution_count": 162,
     "metadata": {},
     "output_type": "execute_result"
    }
   ],
   "source": [
    "from dat_parser import extract_key_values\n",
    "\n",
    "def read_dat_file(file: Path):\n",
    "    return extract_key_values(file)\n",
    "\n",
    "# Test how the function works.\n",
    "# Since dat_files[0] doesn't have any RUNCTRL parameters, the function should return {}\n",
    "read_dat_file(dat_files[0])"
   ]
  },
  {
   "cell_type": "code",
   "execution_count": 163,
   "metadata": {},
   "outputs": [
    {
     "data": {
      "text/html": [
       "<div>\n",
       "<style scoped>\n",
       "    .dataframe tbody tr th:only-of-type {\n",
       "        vertical-align: middle;\n",
       "    }\n",
       "\n",
       "    .dataframe tbody tr th {\n",
       "        vertical-align: top;\n",
       "    }\n",
       "\n",
       "    .dataframe thead th {\n",
       "        text-align: right;\n",
       "    }\n",
       "</style>\n",
       "<table border=\"1\" class=\"dataframe\">\n",
       "  <thead>\n",
       "    <tr style=\"text-align: right;\">\n",
       "      <th></th>\n",
       "      <th>MBERRLIM</th>\n",
       "      <th>TOLLIN</th>\n",
       "      <th>TOLVARNEWT</th>\n",
       "      <th>CHECKP</th>\n",
       "      <th>MBERRCTRL</th>\n",
       "      <th>MINNEWTIT</th>\n",
       "    </tr>\n",
       "  </thead>\n",
       "  <tbody>\n",
       "    <tr>\n",
       "      <th>0</th>\n",
       "      <td>NaN</td>\n",
       "      <td>NaN</td>\n",
       "      <td>NaN</td>\n",
       "      <td>NaN</td>\n",
       "      <td>NaN</td>\n",
       "      <td>NaN</td>\n",
       "    </tr>\n",
       "    <tr>\n",
       "      <th>1</th>\n",
       "      <td>0.0</td>\n",
       "      <td>0.0001</td>\n",
       "      <td>0.00001</td>\n",
       "      <td>1.0</td>\n",
       "      <td>1.000000e-07</td>\n",
       "      <td>NaN</td>\n",
       "    </tr>\n",
       "    <tr>\n",
       "      <th>2</th>\n",
       "      <td>0.0</td>\n",
       "      <td>0.0001</td>\n",
       "      <td>0.00001</td>\n",
       "      <td>1.0</td>\n",
       "      <td>1.000000e-07</td>\n",
       "      <td>0.0</td>\n",
       "    </tr>\n",
       "    <tr>\n",
       "      <th>3</th>\n",
       "      <td>0.0</td>\n",
       "      <td>0.0001</td>\n",
       "      <td>0.00001</td>\n",
       "      <td>1.0</td>\n",
       "      <td>1.000000e-06</td>\n",
       "      <td>NaN</td>\n",
       "    </tr>\n",
       "    <tr>\n",
       "      <th>4</th>\n",
       "      <td>0.0</td>\n",
       "      <td>0.0001</td>\n",
       "      <td>0.00001</td>\n",
       "      <td>1.0</td>\n",
       "      <td>1.000000e-06</td>\n",
       "      <td>0.0</td>\n",
       "    </tr>\n",
       "    <tr>\n",
       "      <th>...</th>\n",
       "      <td>...</td>\n",
       "      <td>...</td>\n",
       "      <td>...</td>\n",
       "      <td>...</td>\n",
       "      <td>...</td>\n",
       "      <td>...</td>\n",
       "    </tr>\n",
       "    <tr>\n",
       "      <th>996</th>\n",
       "      <td>2.0</td>\n",
       "      <td>0.0050</td>\n",
       "      <td>0.10000</td>\n",
       "      <td>2.0</td>\n",
       "      <td>1.000000e-05</td>\n",
       "      <td>0.0</td>\n",
       "    </tr>\n",
       "    <tr>\n",
       "      <th>997</th>\n",
       "      <td>2.0</td>\n",
       "      <td>0.0050</td>\n",
       "      <td>0.10000</td>\n",
       "      <td>2.0</td>\n",
       "      <td>1.000000e-04</td>\n",
       "      <td>NaN</td>\n",
       "    </tr>\n",
       "    <tr>\n",
       "      <th>998</th>\n",
       "      <td>2.0</td>\n",
       "      <td>0.0050</td>\n",
       "      <td>0.10000</td>\n",
       "      <td>2.0</td>\n",
       "      <td>1.000000e-04</td>\n",
       "      <td>0.0</td>\n",
       "    </tr>\n",
       "    <tr>\n",
       "      <th>999</th>\n",
       "      <td>2.0</td>\n",
       "      <td>0.0050</td>\n",
       "      <td>0.10000</td>\n",
       "      <td>2.0</td>\n",
       "      <td>1.000000e-03</td>\n",
       "      <td>NaN</td>\n",
       "    </tr>\n",
       "    <tr>\n",
       "      <th>1000</th>\n",
       "      <td>2.0</td>\n",
       "      <td>0.0050</td>\n",
       "      <td>0.10000</td>\n",
       "      <td>2.0</td>\n",
       "      <td>1.000000e-03</td>\n",
       "      <td>0.0</td>\n",
       "    </tr>\n",
       "  </tbody>\n",
       "</table>\n",
       "<p>1001 rows × 6 columns</p>\n",
       "</div>"
      ],
      "text/plain": [
       "      MBERRLIM  TOLLIN  TOLVARNEWT  CHECKP     MBERRCTRL  MINNEWTIT\n",
       "0          NaN     NaN         NaN     NaN           NaN        NaN\n",
       "1          0.0  0.0001     0.00001     1.0  1.000000e-07        NaN\n",
       "2          0.0  0.0001     0.00001     1.0  1.000000e-07        0.0\n",
       "3          0.0  0.0001     0.00001     1.0  1.000000e-06        NaN\n",
       "4          0.0  0.0001     0.00001     1.0  1.000000e-06        0.0\n",
       "...        ...     ...         ...     ...           ...        ...\n",
       "996        2.0  0.0050     0.10000     2.0  1.000000e-05        0.0\n",
       "997        2.0  0.0050     0.10000     2.0  1.000000e-04        NaN\n",
       "998        2.0  0.0050     0.10000     2.0  1.000000e-04        0.0\n",
       "999        2.0  0.0050     0.10000     2.0  1.000000e-03        NaN\n",
       "1000       2.0  0.0050     0.10000     2.0  1.000000e-03        0.0\n",
       "\n",
       "[1001 rows x 6 columns]"
      ]
     },
     "execution_count": 163,
     "metadata": {},
     "output_type": "execute_result"
    }
   ],
   "source": [
    "import pandas as pd\n",
    "\n",
    "dicts_list = []\n",
    "\n",
    "for filename in dat_files:\n",
    "    dicts_list.append(read_dat_file(filename))\n",
    "\n",
    "# Convert list of dictionaries to DataFrame\n",
    "df = pd.DataFrame(dicts_list)\n",
    "\n",
    "df"
   ]
  },
  {
   "cell_type": "markdown",
   "metadata": {},
   "source": [
    "# Parse result files"
   ]
  },
  {
   "cell_type": "code",
   "execution_count": 164,
   "metadata": {},
   "outputs": [],
   "source": [
    "from table_parser import parse_table\n",
    "from block_finder import find_block_with_min_lines\n",
    "\n",
    "# parse result.log file\n",
    "def read_res_file(file: Path):\n",
    "    return(parse_table(find_block_with_min_lines(file)))\n",
    "    pass"
   ]
  }
 ],
 "metadata": {
  "kernelspec": {
   "display_name": "main",
   "language": "python",
   "name": "python3"
  },
  "language_info": {
   "codemirror_mode": {
    "name": "ipython",
    "version": 3
   },
   "file_extension": ".py",
   "mimetype": "text/x-python",
   "name": "python",
   "nbconvert_exporter": "python",
   "pygments_lexer": "ipython3",
   "version": "3.10.12"
  }
 },
 "nbformat": 4,
 "nbformat_minor": 2
}
